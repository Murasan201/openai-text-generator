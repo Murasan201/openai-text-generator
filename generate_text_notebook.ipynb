{
 "cells": [
  {
   "cell_type": "markdown",
   "metadata": {},
   "source": "# OpenAI o4-mini モデル テキスト生成ノートブック（Google Colab版）\n\nこのノートブックでは、**Google Colaboratory**でOpenAI の o4-mini モデルを使用してテキスト生成を行います。\n\n## 必要な準備\n1. **OpenAI API キーの取得**\n2. **Google Colaboratoryでの実行**（ローカル環境は不要）\n3. **APIキーの設定**（Google Colab専用の方法を使用）\n\n## Google Colabでの環境変数設定方法\n\n### 🔒 **推奨方法: Google Colab Secrets機能**\n1. 左サイドバーの「🔑」アイコン（Secrets）をクリック\n2. 「Add new secret」をクリック\n3. Name: `OPENAI_API_KEY`\n4. Value: あなたのOpenAI APIキー\n5. 「Notebook access」をオンにする\n\n### 📝 **代替方法: 直接入力**\nセルでAPIキーを直接入力（**実行後は必ずセルを削除してください**）\n\n### ⚠️ **重要な注意事項**\n- **APIキーは機密情報です**\n- **ノートブックを共有する前にAPIキーを含むセルは削除してください**\n- **Google Colab Secretsの使用を強く推奨します**\n\n## 実行環境\n- ✅ **Google Colaboratory**で動作確認済み\n- ✅ **追加インストール不要**（必要なライブラリは自動インストール）\n- ✅ **無料版で利用可能**",
   "outputs": []
  },
  {
   "cell_type": "markdown",
   "metadata": {},
   "source": "## 1. 必要なライブラリのインストールとインポート\n\nGoogle Colabでは、openaiライブラリを最初にインストールする必要があります。",
   "outputs": []
  },
  {
   "cell_type": "code",
   "metadata": {},
   "outputs": [],
   "source": "# Google Colabで必要なライブラリをインストール\n!pip install openai\n\n# 必要なライブラリをインポート\nimport os\nimport openai\nfrom google.colab import userdata  # Google Colab専用のライブラリ\n\nprint(\"✅ ライブラリのインストールとインポートが完了しました。\")"
  },
  {
   "cell_type": "markdown",
   "metadata": {},
   "source": "## 2. Google ColabでのOpenAI API キー設定\n\nGoogle Colabには専用のSecrets機能があります。これが最も安全な方法です。",
   "outputs": []
  },
  {
   "cell_type": "code",
   "metadata": {},
   "outputs": [],
   "source": "# Google Colab SecretsからAPIキーを取得（推奨方法）\ntry:\n    # Google Colab Secretsから取得\n    oai_key = userdata.get('OPENAI_API_KEY')\n    openai.api_key = oai_key\n    print(\"✅ Google Colab SecretsからAPIキーを取得しました\")\n    print(\"🔒 セキュアな方法でAPIキーが設定されました\")\n    \nexcept Exception as e:\n    print(\"⚠️ Google Colab Secretsからの取得に失敗しました\")\n    print(\"以下の手順でSecretsを設定してください:\")\n    print(\"1. 左サイドバーの🔑アイコンをクリック\")\n    print(\"2. 'Add new secret'をクリック\")\n    print(\"3. Name: OPENAI_API_KEY\")\n    print(\"4. Value: あなたのAPIキー\")\n    print(\"5. 'Notebook access'をオンにする\")\n    print(\"\\\\n代替方法として、次のセルで直接入力できます（非推奨）\")"
  },
  {
   "cell_type": "markdown",
   "metadata": {},
   "source": "# 【非推奨】代替方法: 直接入力\n# ⚠️ 実行後は必ずこのセルを削除してください ⚠️\n# ⚠️ ノートブックを共有する前に確実に削除してください ⚠️\n\n# 以下のコメントアウトを外してAPIキーを設定（Secretsが使えない場合のみ）\n# openai.api_key = \"sk-proj-your-actual-api-key-here\"\n# print(\"⚠️ APIキーを直接設定しました - セキュリティのためこのセルを削除してください\"\n\n# より安全な方法：getpassを使用した入力\nfrom getpass import getpass\n\nprint(\"🔐 APIキーを入力してください（入力時は表示されません）:\")\nmanual_key = getpass(\"OpenAI API Key: \")\n\nif manual_key.strip():\n    openai.api_key = manual_key\n    print(\"✅ APIキーが設定されました\")\n    print(\"🔒 入力されたキーは画面に表示されませんでした\")\nelse:\n    print(\"❌ APIキーが入力されませんでした\")",
   "outputs": []
  },
  {
   "cell_type": "code",
   "metadata": {},
   "outputs": [],
   "source": "def generate_text(prompt: str, show_debug: bool = False) -> str:\n    \"\"\"\n    ChatCompletion API を用いて o4-mini モデルから応答を取得する関数。\n\n    Args:\n        prompt (str): ユーザーからのプロンプト文字列\n        show_debug (bool): デバッグ情報を表示するかどうか（デフォルト: False）\n    \n    Returns:\n        str: モデルからの生成テキスト\n    \"\"\"\n    try:\n        # OpenAI APIを呼び出してテキストを生成\n        response = openai.chat.completions.create(\n            model=\"o4-mini\",  # 使用するモデル名\n            messages=[\n                {\n                    \"role\": \"system\", \n                    \"content\": (\n                        \"あなたは親切で知識豊富なアシスタントです。ユーザーの質問に対して明確で分かりやすい回答を提供してください。\"\n                        \"常に具体的な内容を含む回答をし、空の応答は絶対に返さないでください。\"\n                    )\n                },\n                {\"role\": \"user\", \"content\": prompt}  # ユーザーからの質問\n            ],\n            max_completion_tokens=1000,  # 生成する最大トークン数\n        )\n        \n        # デバッグ情報を表示（オプション）\n        if show_debug:\n            print(\"=== デバッグ情報 ===\")\n            print(f\"モデル: {response.model}\")\n            print(f\"使用トークン数: {response.usage.total_tokens}\")\n            print(f\"完了理由: {response.choices[0].finish_reason}\")\n            print(\"==================\")\n        \n        # 生成されたテキストを取得\n        content = response.choices[0].message.content\n        \n        # 空の応答の場合はエラーメッセージを返す\n        if not content:\n            return \"応答が生成されませんでした。再度お試しください。\"\n        \n        return content.strip()\n    \n    except Exception as e:\n        # エラーが発生した場合の処理\n        return f\"エラーが発生しました: {str(e)}\"\n\nprint(\"✅ テキスト生成関数が定義されました\")"
  },
  {
   "cell_type": "markdown",
   "metadata": {},
   "source": [
    "## 4. 基本的な使用例\n",
    "\n",
    "まずは簡単な質問でテキスト生成を試してみましょう。"
   ]
  },
  {
   "cell_type": "code",
   "execution_count": null,
   "metadata": {},
   "outputs": [],
   "source": [
    "# 基本的な使用例\n",
    "simple_prompt = \"こんにちは！調子はどうですか？\"\n",
    "\n",
    "print(\"=\" * 60)\n",
    "print(\"基本的な使用例\")\n",
    "print(\"=\" * 60)\n",
    "print(f\"プロンプト: {simple_prompt}\")\n",
    "print(\"-\" * 60)\n",
    "print(\"AI応答:\")\n",
    "print(\"-\" * 60)\n",
    "\n",
    "# テキスト生成を実行\n",
    "result = generate_text(simple_prompt)\n",
    "print(result)\n",
    "print(\"=\" * 60)"
   ]
  },
  {
   "cell_type": "markdown",
   "metadata": {},
   "source": [
    "## 5. 技術的な質問の例\n",
    "\n",
    "より複雑な技術的な質問を試してみましょう。"
   ]
  },
  {
   "cell_type": "code",
   "execution_count": null,
   "metadata": {},
   "outputs": [],
   "source": [
    "# 技術的な質問の例\n",
    "tech_prompt = \"LLMの最新の技術動向について簡潔に教えてください。\"\n",
    "\n",
    "print(\"=\" * 60)\n",
    "print(\"技術的な質問の例\")\n",
    "print(\"=\" * 60)\n",
    "print(f\"プロンプト: {tech_prompt}\")\n",
    "print(\"-\" * 60)\n",
    "print(\"AI応答:\")\n",
    "print(\"-\" * 60)\n",
    "\n",
    "# デバッグ情報も表示してテキスト生成を実行\n",
    "result = generate_text(tech_prompt, show_debug=True)\n",
    "print(result)\n",
    "print(\"=\" * 60)"
   ]
  },
  {
   "cell_type": "markdown",
   "metadata": {},
   "source": [
    "## 6. インタラクティブな質問\n",
    "\n",
    "自由に質問を入力してAIと対話できるセルです。"
   ]
  },
  {
   "cell_type": "code",
   "execution_count": null,
   "metadata": {},
   "outputs": [],
   "source": [
    "# ここに自由に質問を入力してください\n",
    "your_prompt = \"Pythonでファイルを読み込む方法を教えてください。\"\n",
    "\n",
    "print(\"=\" * 60)\n",
    "print(\"あなたの質問\")\n",
    "print(\"=\" * 60)\n",
    "print(f\"プロンプト: {your_prompt}\")\n",
    "print(\"-\" * 60)\n",
    "print(\"AI応答:\")\n",
    "print(\"-\" * 60)\n",
    "\n",
    "# テキスト生成を実行\n",
    "result = generate_text(your_prompt)\n",
    "print(result)\n",
    "print(\"=\" * 60)"
   ]
  },
  {
   "cell_type": "markdown",
   "metadata": {},
   "source": [
    "## 7. 複数の質問を一度に処理\n",
    "\n",
    "複数の質問をリストにして、一度に処理する例です。"
   ]
  },
  {
   "cell_type": "code",
   "metadata": {},
   "outputs": [],
   "source": "## 8. Google Colabでの使用上の注意とトラブルシューティング\n\n### Google Colab特有の注意点\n\n1. **セッション切断**: 長時間使用しないとセッションが切断されます\n2. **ランタイム制限**: 無料版では連続使用時間に制限があります\n3. **APIキー管理**: Secretsを使用して安全に管理してください\n\n### よくあるエラーと対処法\n\n1. **APIキーエラー**: Google Colab Secretsが正しく設定されているか確認\n2. **レート制限エラー**: APIの使用制限に達した場合は時間をおいて再実行\n3. **ライブラリエラー**: セッション再起動後は最初のセルから再実行\n\n### パフォーマンスのヒント\n\n- GPU/TPUは不要（テキスト生成のみの場合）\n- `max_completion_tokens` を調整してトークン使用量を制御\n- プロンプトを明確で具体的にする"
  },
  {
   "cell_type": "markdown",
   "metadata": {},
   "source": "# Google Colab環境情報の確認\nimport sys\n\nprint(\"=== Google Colab 環境情報 ===\")\nprint(f\"Python バージョン: {sys.version}\")\nprint(f\"実行環境: Google Colaboratory\")\nprint(f\"OpenAI ライブラリ: インストール済み\")\n\n# APIキー設定状況の確認（実際のキーは表示しない）\nif hasattr(openai, 'api_key') and openai.api_key:\n    print(f\"API キー設定: ✅ 設定済み (長さ: {len(openai.api_key)} 文字)\")\nelse:\n    print(\"API キー設定: ❌ 未設定\")\n\nprint(\"========================\")\nprint(\"🚀 Google Colabでの実行準備が完了しました！\")\nprint(\"💡 上記のセルを順番に実行してAIとの対話を開始してください\")",
   "outputs": []
  },
  {
   "cell_type": "code",
   "execution_count": null,
   "metadata": {},
   "outputs": [],
   "source": [
    "# システム情報の確認\n",
    "print(\"=== システム情報 ===\")\n",
    "print(f\"Python バージョン: {os.sys.version}\")\n",
    "print(f\"OpenAI ライブラリ: インポート済み\")\n",
    "print(f\"API キー設定: {'✅ 設定済み' if os.getenv('OPENAI_API_KEY') else '❌ 未設定'}\")\n",
    "print(\"===================\")"
   ]
  }
 ],
 "metadata": {
  "kernelspec": {
   "display_name": "Python 3",
   "language": "python",
   "name": "python3"
  },
  "language_info": {
   "codemirror_mode": {
    "name": "ipython",
    "version": 3
   },
   "file_extension": ".py",
   "mimetype": "text/x-python",
   "name": "python",
   "nbconvert_exporter": "python",
   "pygments_lexer": "ipython3",
   "version": "3.8.0"
  }
 },
 "nbformat": 4,
 "nbformat_minor": 4
}